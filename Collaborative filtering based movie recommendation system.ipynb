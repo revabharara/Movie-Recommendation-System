{
 "cells": [
  {
   "cell_type": "markdown",
   "id": "66b608e0",
   "metadata": {},
   "source": [
    "*Reva Bharara*\n",
    "\n",
    "*Email : revabharara@gmail.com, bhararareva@gmail.com*\n",
    "\n",
    "*Linkedin : https://www.linkedin.com/in/reva-bharara-a83a78241/*\n"
   ]
  },
  {
   "cell_type": "markdown",
   "id": "9fc70074",
   "metadata": {},
   "source": [
    "### Objective: To make a movie recommendation system based on collaborative filtering using K means clustering."
   ]
  },
  {
   "cell_type": "markdown",
   "id": "a53c597d",
   "metadata": {},
   "source": [
    "### *Index:*\n",
    "1. Importing the dependencies\n",
    "2. Importing relevant datasets\n",
    "3. Data exploration\n",
    "4. Data preprocessing\n",
    "5. Data analysis\n",
    "5. Collaborative filtering recommendation system (K-Means)\n",
    "    1. Forming a movie and user rating matrix so that we can easily cluster the similar users (using pivot table)\n",
    "    2. K Means clustering (building the model)\n",
    "    3. Training the model and visualisation\n",
    "    4. Evaluating the model\n",
    "6. Insights\n",
    "7. Credits"
   ]
  },
  {
   "cell_type": "markdown",
   "id": "60684744",
   "metadata": {},
   "source": [
    "### --------------------------------------------------------------------------------------------------------\n",
    "### *1. Importing the dependencies*"
   ]
  },
  {
   "cell_type": "code",
   "execution_count": 112,
   "id": "d0e41570",
   "metadata": {},
   "outputs": [],
   "source": [
    "import numpy as np\n",
    "import pandas as pd\n",
    "import matplotlib.pyplot as plt\n",
    "import seaborn as sns\n",
    "from sklearn.cluster import KMeans\n",
    "from scipy.cluster.hierarchy import dendrogram, linkage\n",
    "from sklearn.metrics import accuracy_score\n",
    "from sklearn.metrics import f1_score\n",
    "from sklearn.metrics import silhouette_score\n",
    "from scipy.sparse import csr_matrix\n"
   ]
  },
  {
   "cell_type": "markdown",
   "id": "882a8852",
   "metadata": {},
   "source": [
    "### --------------------------------------------------------------------------------------------------------\n",
    "### *2. Importing relevant datasets*"
   ]
  },
  {
   "cell_type": "code",
   "execution_count": 2,
   "id": "6d3cb121",
   "metadata": {},
   "outputs": [],
   "source": [
    "# importing the movies dataset\n",
    "df_movies=pd.read_csv('movie_names.csv')\n",
    "\n",
    "# importing the rating dataset\n",
    "df_rating=pd.read_csv('rating.csv')"
   ]
  },
  {
   "cell_type": "code",
   "execution_count": 3,
   "id": "b5fa589d",
   "metadata": {},
   "outputs": [],
   "source": [
    "# the dataset is too big so we will be cutting it short for smoother operations\n",
    "# df_rating=df_rating.head(200000)\n",
    "# df_rating.drop(['Unnamed: 0'], axis=1, inplace=True)\n",
    "# df_rating.to_csv('rating.csv', index=False)"
   ]
  },
  {
   "cell_type": "markdown",
   "id": "0199859c",
   "metadata": {},
   "source": [
    "### --------------------------------------------------------------------------------------------------------\n",
    "### *3. Exploring the data*"
   ]
  },
  {
   "cell_type": "code",
   "execution_count": 4,
   "id": "882573c8",
   "metadata": {},
   "outputs": [
    {
     "data": {
      "text/html": [
       "<div>\n",
       "<style scoped>\n",
       "    .dataframe tbody tr th:only-of-type {\n",
       "        vertical-align: middle;\n",
       "    }\n",
       "\n",
       "    .dataframe tbody tr th {\n",
       "        vertical-align: top;\n",
       "    }\n",
       "\n",
       "    .dataframe thead th {\n",
       "        text-align: right;\n",
       "    }\n",
       "</style>\n",
       "<table border=\"1\" class=\"dataframe\">\n",
       "  <thead>\n",
       "    <tr style=\"text-align: right;\">\n",
       "      <th></th>\n",
       "      <th>movieId</th>\n",
       "      <th>title</th>\n",
       "      <th>genres</th>\n",
       "    </tr>\n",
       "  </thead>\n",
       "  <tbody>\n",
       "    <tr>\n",
       "      <th>0</th>\n",
       "      <td>1</td>\n",
       "      <td>Toy Story (1995)</td>\n",
       "      <td>Adventure|Animation|Children|Comedy|Fantasy</td>\n",
       "    </tr>\n",
       "    <tr>\n",
       "      <th>1</th>\n",
       "      <td>2</td>\n",
       "      <td>Jumanji (1995)</td>\n",
       "      <td>Adventure|Children|Fantasy</td>\n",
       "    </tr>\n",
       "    <tr>\n",
       "      <th>2</th>\n",
       "      <td>3</td>\n",
       "      <td>Grumpier Old Men (1995)</td>\n",
       "      <td>Comedy|Romance</td>\n",
       "    </tr>\n",
       "    <tr>\n",
       "      <th>3</th>\n",
       "      <td>4</td>\n",
       "      <td>Waiting to Exhale (1995)</td>\n",
       "      <td>Comedy|Drama|Romance</td>\n",
       "    </tr>\n",
       "    <tr>\n",
       "      <th>4</th>\n",
       "      <td>5</td>\n",
       "      <td>Father of the Bride Part II (1995)</td>\n",
       "      <td>Comedy</td>\n",
       "    </tr>\n",
       "  </tbody>\n",
       "</table>\n",
       "</div>"
      ],
      "text/plain": [
       "   movieId                               title  \\\n",
       "0        1                    Toy Story (1995)   \n",
       "1        2                      Jumanji (1995)   \n",
       "2        3             Grumpier Old Men (1995)   \n",
       "3        4            Waiting to Exhale (1995)   \n",
       "4        5  Father of the Bride Part II (1995)   \n",
       "\n",
       "                                        genres  \n",
       "0  Adventure|Animation|Children|Comedy|Fantasy  \n",
       "1                   Adventure|Children|Fantasy  \n",
       "2                               Comedy|Romance  \n",
       "3                         Comedy|Drama|Romance  \n",
       "4                                       Comedy  "
      ]
     },
     "execution_count": 4,
     "metadata": {},
     "output_type": "execute_result"
    }
   ],
   "source": [
    "df_movies.head()"
   ]
  },
  {
   "cell_type": "code",
   "execution_count": 5,
   "id": "3586dab8",
   "metadata": {},
   "outputs": [
    {
     "data": {
      "text/html": [
       "<div>\n",
       "<style scoped>\n",
       "    .dataframe tbody tr th:only-of-type {\n",
       "        vertical-align: middle;\n",
       "    }\n",
       "\n",
       "    .dataframe tbody tr th {\n",
       "        vertical-align: top;\n",
       "    }\n",
       "\n",
       "    .dataframe thead th {\n",
       "        text-align: right;\n",
       "    }\n",
       "</style>\n",
       "<table border=\"1\" class=\"dataframe\">\n",
       "  <thead>\n",
       "    <tr style=\"text-align: right;\">\n",
       "      <th></th>\n",
       "      <th>userId</th>\n",
       "      <th>movieId</th>\n",
       "      <th>rating</th>\n",
       "      <th>title</th>\n",
       "      <th>genres</th>\n",
       "    </tr>\n",
       "  </thead>\n",
       "  <tbody>\n",
       "    <tr>\n",
       "      <th>0</th>\n",
       "      <td>1</td>\n",
       "      <td>2</td>\n",
       "      <td>3.5</td>\n",
       "      <td>Jumanji (1995)</td>\n",
       "      <td>Adventure|Children|Fantasy</td>\n",
       "    </tr>\n",
       "    <tr>\n",
       "      <th>1</th>\n",
       "      <td>5</td>\n",
       "      <td>2</td>\n",
       "      <td>3.0</td>\n",
       "      <td>Jumanji (1995)</td>\n",
       "      <td>Adventure|Children|Fantasy</td>\n",
       "    </tr>\n",
       "    <tr>\n",
       "      <th>2</th>\n",
       "      <td>13</td>\n",
       "      <td>2</td>\n",
       "      <td>3.0</td>\n",
       "      <td>Jumanji (1995)</td>\n",
       "      <td>Adventure|Children|Fantasy</td>\n",
       "    </tr>\n",
       "    <tr>\n",
       "      <th>3</th>\n",
       "      <td>29</td>\n",
       "      <td>2</td>\n",
       "      <td>3.0</td>\n",
       "      <td>Jumanji (1995)</td>\n",
       "      <td>Adventure|Children|Fantasy</td>\n",
       "    </tr>\n",
       "    <tr>\n",
       "      <th>4</th>\n",
       "      <td>34</td>\n",
       "      <td>2</td>\n",
       "      <td>3.0</td>\n",
       "      <td>Jumanji (1995)</td>\n",
       "      <td>Adventure|Children|Fantasy</td>\n",
       "    </tr>\n",
       "  </tbody>\n",
       "</table>\n",
       "</div>"
      ],
      "text/plain": [
       "   userId  movieId  rating           title                      genres\n",
       "0       1        2     3.5  Jumanji (1995)  Adventure|Children|Fantasy\n",
       "1       5        2     3.0  Jumanji (1995)  Adventure|Children|Fantasy\n",
       "2      13        2     3.0  Jumanji (1995)  Adventure|Children|Fantasy\n",
       "3      29        2     3.0  Jumanji (1995)  Adventure|Children|Fantasy\n",
       "4      34        2     3.0  Jumanji (1995)  Adventure|Children|Fantasy"
      ]
     },
     "execution_count": 5,
     "metadata": {},
     "output_type": "execute_result"
    }
   ],
   "source": [
    "df_rating.head()"
   ]
  },
  {
   "cell_type": "code",
   "execution_count": 6,
   "id": "4f78b6a3",
   "metadata": {},
   "outputs": [
    {
     "name": "stdout",
     "output_type": "stream",
     "text": [
      "Index(['movieId', 'title', 'genres'], dtype='object')\n",
      "Index(['userId', 'movieId', 'rating', 'title', 'genres'], dtype='object')\n"
     ]
    }
   ],
   "source": [
    "# let us look at the columns present in the datasets and their general features\n",
    "print(df_movies.columns)\n",
    "print(df_rating.columns)\n"
   ]
  },
  {
   "cell_type": "code",
   "execution_count": 7,
   "id": "604011bd",
   "metadata": {},
   "outputs": [
    {
     "name": "stdout",
     "output_type": "stream",
     "text": [
      "shape of movies dataset: (27278, 3)\n",
      "shape of rating dataset: (200000, 5)\n"
     ]
    }
   ],
   "source": [
    "print(f'shape of movies dataset: {df_movies.shape}')\n",
    "print(f'shape of rating dataset: {df_rating.shape}')"
   ]
  },
  {
   "cell_type": "code",
   "execution_count": 8,
   "id": "f25b4e6c",
   "metadata": {},
   "outputs": [
    {
     "name": "stdout",
     "output_type": "stream",
     "text": [
      "<class 'pandas.core.frame.DataFrame'>\n",
      "RangeIndex: 27278 entries, 0 to 27277\n",
      "Data columns (total 3 columns):\n",
      " #   Column   Non-Null Count  Dtype \n",
      "---  ------   --------------  ----- \n",
      " 0   movieId  27278 non-null  int64 \n",
      " 1   title    27278 non-null  object\n",
      " 2   genres   27278 non-null  object\n",
      "dtypes: int64(1), object(2)\n",
      "memory usage: 639.5+ KB\n",
      "info about the movies dataset: None\n",
      "\n",
      "<class 'pandas.core.frame.DataFrame'>\n",
      "RangeIndex: 200000 entries, 0 to 199999\n",
      "Data columns (total 5 columns):\n",
      " #   Column   Non-Null Count   Dtype  \n",
      "---  ------   --------------   -----  \n",
      " 0   userId   200000 non-null  int64  \n",
      " 1   movieId  200000 non-null  int64  \n",
      " 2   rating   200000 non-null  float64\n",
      " 3   title    200000 non-null  object \n",
      " 4   genres   200000 non-null  object \n",
      "dtypes: float64(1), int64(2), object(2)\n",
      "memory usage: 7.6+ MB\n",
      "info about the rating dataset: None\n"
     ]
    }
   ],
   "source": [
    "print(f'info about the movies dataset: {df_movies.info()}')\n",
    "print()\n",
    "print(f'info about the rating dataset: {df_rating.info()}')"
   ]
  },
  {
   "cell_type": "code",
   "execution_count": 9,
   "id": "6c432576",
   "metadata": {},
   "outputs": [
    {
     "data": {
      "text/plain": [
       "userId     0\n",
       "movieId    0\n",
       "rating     0\n",
       "title      0\n",
       "genres     0\n",
       "dtype: int64"
      ]
     },
     "execution_count": 9,
     "metadata": {},
     "output_type": "execute_result"
    }
   ],
   "source": [
    "df_rating.isnull().sum()"
   ]
  },
  {
   "cell_type": "markdown",
   "id": "837826be",
   "metadata": {},
   "source": [
    "### --------------------------------------------------------------------------------------------------------\n",
    "### *4. Data preprocessing*"
   ]
  },
  {
   "cell_type": "markdown",
   "id": "95154456",
   "metadata": {},
   "source": [
    "#### There are no null values in both the dataframes so we dont have to process those.\n",
    "\n",
    "#### We now need to join the *'title'* and *'genres'* column from df_movies to df_rating and store it\n"
   ]
  },
  {
   "cell_type": "code",
   "execution_count": 10,
   "id": "6d2f886e",
   "metadata": {},
   "outputs": [],
   "source": [
    "# df_rating=df_rating.merge(df_movies, on='movieId', how='inner')\n",
    "# df_rating.head()"
   ]
  },
  {
   "cell_type": "markdown",
   "id": "490a5f55",
   "metadata": {},
   "source": [
    "#### We don't need the timestamp column it is of no significance so we will delete it."
   ]
  },
  {
   "cell_type": "code",
   "execution_count": 11,
   "id": "55df3da4",
   "metadata": {},
   "outputs": [],
   "source": [
    "# df_rating.drop(['timestamp'],axis=1, inplace=True)\n",
    "# df_rating.head()"
   ]
  },
  {
   "cell_type": "markdown",
   "id": "6c16089d",
   "metadata": {},
   "source": [
    "#### I have already save the modified dataframe in the rating.csv so we dont need to merge and drop columns every time.\n",
    "In case you are downloading the dataset from kaggle itself, uncomment the above two cells and run them to modify the dataframe."
   ]
  },
  {
   "cell_type": "code",
   "execution_count": 12,
   "id": "5b5d7b97",
   "metadata": {},
   "outputs": [
    {
     "data": {
      "text/plain": [
       "10151"
      ]
     },
     "execution_count": 12,
     "metadata": {},
     "output_type": "execute_result"
    }
   ],
   "source": [
    "len(df_rating['title'].unique())"
   ]
  },
  {
   "cell_type": "code",
   "execution_count": 13,
   "id": "0ce851a8",
   "metadata": {},
   "outputs": [
    {
     "data": {
      "text/plain": [
       "userId     0\n",
       "movieId    0\n",
       "rating     0\n",
       "title      0\n",
       "genres     0\n",
       "dtype: int64"
      ]
     },
     "execution_count": 13,
     "metadata": {},
     "output_type": "execute_result"
    }
   ],
   "source": [
    "# checking if there are any null values still\n",
    "df_rating.isnull().sum()"
   ]
  },
  {
   "cell_type": "markdown",
   "id": "1cf8f3d1",
   "metadata": {},
   "source": [
    "### --------------------------------------------------------------------------------------------------------\n",
    "### *5. Data Analysis*\n",
    "\n",
    "#### Now that we have explored and pre-processed the data, we will now analyse it in this section to gather any insights that might help up in out model building process. This involves:\n",
    "1. finding the average user rating of each movie\n",
    "2. finding the likebility of each genre\n",
    "3. number of movies in each genre\n"
   ]
  },
  {
   "cell_type": "markdown",
   "id": "062a679d",
   "metadata": {},
   "source": [
    "#### 1. Finding the average user rating of each movie\n"
   ]
  },
  {
   "cell_type": "code",
   "execution_count": 14,
   "id": "2e5a97bf",
   "metadata": {},
   "outputs": [
    {
     "data": {
      "text/html": [
       "<div>\n",
       "<style scoped>\n",
       "    .dataframe tbody tr th:only-of-type {\n",
       "        vertical-align: middle;\n",
       "    }\n",
       "\n",
       "    .dataframe tbody tr th {\n",
       "        vertical-align: top;\n",
       "    }\n",
       "\n",
       "    .dataframe thead th {\n",
       "        text-align: right;\n",
       "    }\n",
       "</style>\n",
       "<table border=\"1\" class=\"dataframe\">\n",
       "  <thead>\n",
       "    <tr style=\"text-align: right;\">\n",
       "      <th></th>\n",
       "      <th>userId</th>\n",
       "      <th>movieId</th>\n",
       "      <th>rating</th>\n",
       "      <th>title</th>\n",
       "      <th>genres</th>\n",
       "    </tr>\n",
       "  </thead>\n",
       "  <tbody>\n",
       "    <tr>\n",
       "      <th>0</th>\n",
       "      <td>1</td>\n",
       "      <td>2</td>\n",
       "      <td>3.5</td>\n",
       "      <td>Jumanji (1995)</td>\n",
       "      <td>Adventure|Children|Fantasy</td>\n",
       "    </tr>\n",
       "    <tr>\n",
       "      <th>1</th>\n",
       "      <td>5</td>\n",
       "      <td>2</td>\n",
       "      <td>3.0</td>\n",
       "      <td>Jumanji (1995)</td>\n",
       "      <td>Adventure|Children|Fantasy</td>\n",
       "    </tr>\n",
       "    <tr>\n",
       "      <th>2</th>\n",
       "      <td>13</td>\n",
       "      <td>2</td>\n",
       "      <td>3.0</td>\n",
       "      <td>Jumanji (1995)</td>\n",
       "      <td>Adventure|Children|Fantasy</td>\n",
       "    </tr>\n",
       "    <tr>\n",
       "      <th>3</th>\n",
       "      <td>29</td>\n",
       "      <td>2</td>\n",
       "      <td>3.0</td>\n",
       "      <td>Jumanji (1995)</td>\n",
       "      <td>Adventure|Children|Fantasy</td>\n",
       "    </tr>\n",
       "    <tr>\n",
       "      <th>4</th>\n",
       "      <td>34</td>\n",
       "      <td>2</td>\n",
       "      <td>3.0</td>\n",
       "      <td>Jumanji (1995)</td>\n",
       "      <td>Adventure|Children|Fantasy</td>\n",
       "    </tr>\n",
       "  </tbody>\n",
       "</table>\n",
       "</div>"
      ],
      "text/plain": [
       "   userId  movieId  rating           title                      genres\n",
       "0       1        2     3.5  Jumanji (1995)  Adventure|Children|Fantasy\n",
       "1       5        2     3.0  Jumanji (1995)  Adventure|Children|Fantasy\n",
       "2      13        2     3.0  Jumanji (1995)  Adventure|Children|Fantasy\n",
       "3      29        2     3.0  Jumanji (1995)  Adventure|Children|Fantasy\n",
       "4      34        2     3.0  Jumanji (1995)  Adventure|Children|Fantasy"
      ]
     },
     "execution_count": 14,
     "metadata": {},
     "output_type": "execute_result"
    }
   ],
   "source": [
    "df_rating.head()"
   ]
  },
  {
   "cell_type": "code",
   "execution_count": 15,
   "id": "15668f98",
   "metadata": {},
   "outputs": [
    {
     "data": {
      "text/html": [
       "<div>\n",
       "<style scoped>\n",
       "    .dataframe tbody tr th:only-of-type {\n",
       "        vertical-align: middle;\n",
       "    }\n",
       "\n",
       "    .dataframe tbody tr th {\n",
       "        vertical-align: top;\n",
       "    }\n",
       "\n",
       "    .dataframe thead th {\n",
       "        text-align: right;\n",
       "    }\n",
       "</style>\n",
       "<table border=\"1\" class=\"dataframe\">\n",
       "  <thead>\n",
       "    <tr style=\"text-align: right;\">\n",
       "      <th></th>\n",
       "      <th>movieId</th>\n",
       "      <th>rating</th>\n",
       "    </tr>\n",
       "  </thead>\n",
       "  <tbody>\n",
       "    <tr>\n",
       "      <th>0</th>\n",
       "      <td>1</td>\n",
       "      <td>4.013771</td>\n",
       "    </tr>\n",
       "    <tr>\n",
       "      <th>1</th>\n",
       "      <td>2</td>\n",
       "      <td>3.285388</td>\n",
       "    </tr>\n",
       "    <tr>\n",
       "      <th>2</th>\n",
       "      <td>3</td>\n",
       "      <td>3.204000</td>\n",
       "    </tr>\n",
       "    <tr>\n",
       "      <th>3</th>\n",
       "      <td>4</td>\n",
       "      <td>3.041667</td>\n",
       "    </tr>\n",
       "    <tr>\n",
       "      <th>4</th>\n",
       "      <td>5</td>\n",
       "      <td>3.124031</td>\n",
       "    </tr>\n",
       "  </tbody>\n",
       "</table>\n",
       "</div>"
      ],
      "text/plain": [
       "   movieId    rating\n",
       "0        1  4.013771\n",
       "1        2  3.285388\n",
       "2        3  3.204000\n",
       "3        4  3.041667\n",
       "4        5  3.124031"
      ]
     },
     "execution_count": 15,
     "metadata": {},
     "output_type": "execute_result"
    }
   ],
   "source": [
    "df_avg_rating=df_rating.groupby('movieId')['rating'].mean()\n",
    "df_avg_rating=df_avg_rating.reset_index()\n",
    "df_avg_rating.head()"
   ]
  },
  {
   "cell_type": "markdown",
   "id": "9847a01b",
   "metadata": {},
   "source": [
    "#### 2. Finding the likeability of each genre"
   ]
  },
  {
   "cell_type": "code",
   "execution_count": 16,
   "id": "f5a6946c",
   "metadata": {},
   "outputs": [
    {
     "data": {
      "text/plain": [
       "920"
      ]
     },
     "execution_count": 16,
     "metadata": {},
     "output_type": "execute_result"
    }
   ],
   "source": [
    "# seeing the number of unique values for genres in the table\n",
    "len(df_rating['genres'].unique())"
   ]
  },
  {
   "cell_type": "markdown",
   "id": "c93ab8bf",
   "metadata": {},
   "source": [
    "#### we know that there are more than 1 genres associated with the movies, therefor to be able to find the likability of each genre we will need to split the genres and categorize movies in them. Then we shall review the ratings and see which genre performs the best"
   ]
  },
  {
   "cell_type": "code",
   "execution_count": 17,
   "id": "71d8f773",
   "metadata": {},
   "outputs": [],
   "source": [
    "# creating a list that contains unique genres\n",
    "genres=[]\n",
    "\n",
    "# creating a list to store the split items \n",
    "genre_movie=[]\n",
    "\n",
    "# splitting the content in genre column\n",
    "for row in df_rating['genres']:\n",
    "    genre_movie=row.split('|')\n",
    "    \n",
    "    for genre in genre_movie:\n",
    "        if genre not in genres:\n",
    "            genres.append(genre)"
   ]
  },
  {
   "cell_type": "code",
   "execution_count": 18,
   "id": "33cec627",
   "metadata": {},
   "outputs": [
    {
     "data": {
      "text/plain": [
       "['Adventure',\n",
       " 'Children',\n",
       " 'Fantasy',\n",
       " 'Drama',\n",
       " 'Mystery',\n",
       " 'Sci-Fi',\n",
       " 'Thriller',\n",
       " 'Crime',\n",
       " 'Action',\n",
       " 'Comedy',\n",
       " 'Romance',\n",
       " 'War',\n",
       " 'Horror',\n",
       " 'Musical',\n",
       " 'Western',\n",
       " 'Animation',\n",
       " 'IMAX',\n",
       " 'Film-Noir',\n",
       " 'Documentary',\n",
       " '(no genres listed)']"
      ]
     },
     "execution_count": 18,
     "metadata": {},
     "output_type": "execute_result"
    }
   ],
   "source": [
    "# all the genres in the dataframe\n",
    "genres"
   ]
  },
  {
   "cell_type": "markdown",
   "id": "4d905735",
   "metadata": {},
   "source": [
    "### Here we created a dataframe that tell us where a movie belongs to a perticular genre or not using the get_dummies. This is crucial as we will be able to tell the likability of each genre after we split the genres and then group the ratings based on those individual genres."
   ]
  },
  {
   "cell_type": "code",
   "execution_count": 19,
   "id": "bdfb210e",
   "metadata": {},
   "outputs": [
    {
     "data": {
      "text/html": [
       "<div>\n",
       "<style scoped>\n",
       "    .dataframe tbody tr th:only-of-type {\n",
       "        vertical-align: middle;\n",
       "    }\n",
       "\n",
       "    .dataframe tbody tr th {\n",
       "        vertical-align: top;\n",
       "    }\n",
       "\n",
       "    .dataframe thead th {\n",
       "        text-align: right;\n",
       "    }\n",
       "</style>\n",
       "<table border=\"1\" class=\"dataframe\">\n",
       "  <thead>\n",
       "    <tr style=\"text-align: right;\">\n",
       "      <th></th>\n",
       "      <th>userId</th>\n",
       "      <th>movieId</th>\n",
       "      <th>rating</th>\n",
       "      <th>title</th>\n",
       "      <th>(no genres listed)</th>\n",
       "      <th>Action</th>\n",
       "      <th>Adventure</th>\n",
       "      <th>Animation</th>\n",
       "      <th>Children</th>\n",
       "      <th>Comedy</th>\n",
       "      <th>...</th>\n",
       "      <th>Film-Noir</th>\n",
       "      <th>Horror</th>\n",
       "      <th>IMAX</th>\n",
       "      <th>Musical</th>\n",
       "      <th>Mystery</th>\n",
       "      <th>Romance</th>\n",
       "      <th>Sci-Fi</th>\n",
       "      <th>Thriller</th>\n",
       "      <th>War</th>\n",
       "      <th>Western</th>\n",
       "    </tr>\n",
       "  </thead>\n",
       "  <tbody>\n",
       "    <tr>\n",
       "      <th>0</th>\n",
       "      <td>1</td>\n",
       "      <td>2</td>\n",
       "      <td>3.5</td>\n",
       "      <td>Jumanji (1995)</td>\n",
       "      <td>0</td>\n",
       "      <td>0</td>\n",
       "      <td>1</td>\n",
       "      <td>0</td>\n",
       "      <td>1</td>\n",
       "      <td>0</td>\n",
       "      <td>...</td>\n",
       "      <td>0</td>\n",
       "      <td>0</td>\n",
       "      <td>0</td>\n",
       "      <td>0</td>\n",
       "      <td>0</td>\n",
       "      <td>0</td>\n",
       "      <td>0</td>\n",
       "      <td>0</td>\n",
       "      <td>0</td>\n",
       "      <td>0</td>\n",
       "    </tr>\n",
       "    <tr>\n",
       "      <th>1</th>\n",
       "      <td>5</td>\n",
       "      <td>2</td>\n",
       "      <td>3.0</td>\n",
       "      <td>Jumanji (1995)</td>\n",
       "      <td>0</td>\n",
       "      <td>0</td>\n",
       "      <td>1</td>\n",
       "      <td>0</td>\n",
       "      <td>1</td>\n",
       "      <td>0</td>\n",
       "      <td>...</td>\n",
       "      <td>0</td>\n",
       "      <td>0</td>\n",
       "      <td>0</td>\n",
       "      <td>0</td>\n",
       "      <td>0</td>\n",
       "      <td>0</td>\n",
       "      <td>0</td>\n",
       "      <td>0</td>\n",
       "      <td>0</td>\n",
       "      <td>0</td>\n",
       "    </tr>\n",
       "    <tr>\n",
       "      <th>2</th>\n",
       "      <td>13</td>\n",
       "      <td>2</td>\n",
       "      <td>3.0</td>\n",
       "      <td>Jumanji (1995)</td>\n",
       "      <td>0</td>\n",
       "      <td>0</td>\n",
       "      <td>1</td>\n",
       "      <td>0</td>\n",
       "      <td>1</td>\n",
       "      <td>0</td>\n",
       "      <td>...</td>\n",
       "      <td>0</td>\n",
       "      <td>0</td>\n",
       "      <td>0</td>\n",
       "      <td>0</td>\n",
       "      <td>0</td>\n",
       "      <td>0</td>\n",
       "      <td>0</td>\n",
       "      <td>0</td>\n",
       "      <td>0</td>\n",
       "      <td>0</td>\n",
       "    </tr>\n",
       "    <tr>\n",
       "      <th>3</th>\n",
       "      <td>29</td>\n",
       "      <td>2</td>\n",
       "      <td>3.0</td>\n",
       "      <td>Jumanji (1995)</td>\n",
       "      <td>0</td>\n",
       "      <td>0</td>\n",
       "      <td>1</td>\n",
       "      <td>0</td>\n",
       "      <td>1</td>\n",
       "      <td>0</td>\n",
       "      <td>...</td>\n",
       "      <td>0</td>\n",
       "      <td>0</td>\n",
       "      <td>0</td>\n",
       "      <td>0</td>\n",
       "      <td>0</td>\n",
       "      <td>0</td>\n",
       "      <td>0</td>\n",
       "      <td>0</td>\n",
       "      <td>0</td>\n",
       "      <td>0</td>\n",
       "    </tr>\n",
       "    <tr>\n",
       "      <th>4</th>\n",
       "      <td>34</td>\n",
       "      <td>2</td>\n",
       "      <td>3.0</td>\n",
       "      <td>Jumanji (1995)</td>\n",
       "      <td>0</td>\n",
       "      <td>0</td>\n",
       "      <td>1</td>\n",
       "      <td>0</td>\n",
       "      <td>1</td>\n",
       "      <td>0</td>\n",
       "      <td>...</td>\n",
       "      <td>0</td>\n",
       "      <td>0</td>\n",
       "      <td>0</td>\n",
       "      <td>0</td>\n",
       "      <td>0</td>\n",
       "      <td>0</td>\n",
       "      <td>0</td>\n",
       "      <td>0</td>\n",
       "      <td>0</td>\n",
       "      <td>0</td>\n",
       "    </tr>\n",
       "  </tbody>\n",
       "</table>\n",
       "<p>5 rows × 24 columns</p>\n",
       "</div>"
      ],
      "text/plain": [
       "   userId  movieId  rating           title  (no genres listed)  Action  \\\n",
       "0       1        2     3.5  Jumanji (1995)                   0       0   \n",
       "1       5        2     3.0  Jumanji (1995)                   0       0   \n",
       "2      13        2     3.0  Jumanji (1995)                   0       0   \n",
       "3      29        2     3.0  Jumanji (1995)                   0       0   \n",
       "4      34        2     3.0  Jumanji (1995)                   0       0   \n",
       "\n",
       "   Adventure  Animation  Children  Comedy  ...  Film-Noir  Horror  IMAX  \\\n",
       "0          1          0         1       0  ...          0       0     0   \n",
       "1          1          0         1       0  ...          0       0     0   \n",
       "2          1          0         1       0  ...          0       0     0   \n",
       "3          1          0         1       0  ...          0       0     0   \n",
       "4          1          0         1       0  ...          0       0     0   \n",
       "\n",
       "   Musical  Mystery  Romance  Sci-Fi  Thriller  War  Western  \n",
       "0        0        0        0       0         0    0        0  \n",
       "1        0        0        0       0         0    0        0  \n",
       "2        0        0        0       0         0    0        0  \n",
       "3        0        0        0       0         0    0        0  \n",
       "4        0        0        0       0         0    0        0  \n",
       "\n",
       "[5 rows x 24 columns]"
      ]
     },
     "execution_count": 19,
     "metadata": {},
     "output_type": "execute_result"
    }
   ],
   "source": [
    "# data frame containing all the info except the genre\n",
    "df_info= df_rating.drop(['genres'], axis=1)\n",
    "\n",
    "# dataframe containg the dummies created on the genre column\n",
    "df_dummies=df_rating['genres'].str.get_dummies(sep='|')\n",
    "\n",
    "# final dataframe\n",
    "df_final=pd.concat([df_info,df_dummies], axis=1)\n",
    "\n",
    "df_final.head()"
   ]
  },
  {
   "cell_type": "markdown",
   "id": "9379798d",
   "metadata": {},
   "source": [
    "### Now for each individual genre we will be finding the average rating."
   ]
  },
  {
   "cell_type": "code",
   "execution_count": 20,
   "id": "0418488d",
   "metadata": {},
   "outputs": [
    {
     "data": {
      "text/html": [
       "<div>\n",
       "<style scoped>\n",
       "    .dataframe tbody tr th:only-of-type {\n",
       "        vertical-align: middle;\n",
       "    }\n",
       "\n",
       "    .dataframe tbody tr th {\n",
       "        vertical-align: top;\n",
       "    }\n",
       "\n",
       "    .dataframe thead th {\n",
       "        text-align: right;\n",
       "    }\n",
       "</style>\n",
       "<table border=\"1\" class=\"dataframe\">\n",
       "  <thead>\n",
       "    <tr style=\"text-align: right;\">\n",
       "      <th></th>\n",
       "      <th>genre</th>\n",
       "      <th>rating average</th>\n",
       "    </tr>\n",
       "  </thead>\n",
       "  <tbody>\n",
       "    <tr>\n",
       "      <th>17</th>\n",
       "      <td>Film-Noir</td>\n",
       "      <td>3.977295</td>\n",
       "    </tr>\n",
       "    <tr>\n",
       "      <th>11</th>\n",
       "      <td>War</td>\n",
       "      <td>3.815907</td>\n",
       "    </tr>\n",
       "    <tr>\n",
       "      <th>18</th>\n",
       "      <td>Documentary</td>\n",
       "      <td>3.743519</td>\n",
       "    </tr>\n",
       "    <tr>\n",
       "      <th>7</th>\n",
       "      <td>Crime</td>\n",
       "      <td>3.673462</td>\n",
       "    </tr>\n",
       "    <tr>\n",
       "      <th>16</th>\n",
       "      <td>IMAX</td>\n",
       "      <td>3.663727</td>\n",
       "    </tr>\n",
       "    <tr>\n",
       "      <th>4</th>\n",
       "      <td>Mystery</td>\n",
       "      <td>3.661554</td>\n",
       "    </tr>\n",
       "    <tr>\n",
       "      <th>3</th>\n",
       "      <td>Drama</td>\n",
       "      <td>3.659290</td>\n",
       "    </tr>\n",
       "    <tr>\n",
       "      <th>15</th>\n",
       "      <td>Animation</td>\n",
       "      <td>3.584332</td>\n",
       "    </tr>\n",
       "    <tr>\n",
       "      <th>14</th>\n",
       "      <td>Western</td>\n",
       "      <td>3.529826</td>\n",
       "    </tr>\n",
       "    <tr>\n",
       "      <th>10</th>\n",
       "      <td>Romance</td>\n",
       "      <td>3.521331</td>\n",
       "    </tr>\n",
       "    <tr>\n",
       "      <th>13</th>\n",
       "      <td>Musical</td>\n",
       "      <td>3.519177</td>\n",
       "    </tr>\n",
       "    <tr>\n",
       "      <th>6</th>\n",
       "      <td>Thriller</td>\n",
       "      <td>3.510124</td>\n",
       "    </tr>\n",
       "    <tr>\n",
       "      <th>2</th>\n",
       "      <td>Fantasy</td>\n",
       "      <td>3.499667</td>\n",
       "    </tr>\n",
       "    <tr>\n",
       "      <th>0</th>\n",
       "      <td>Adventure</td>\n",
       "      <td>3.498833</td>\n",
       "    </tr>\n",
       "    <tr>\n",
       "      <th>8</th>\n",
       "      <td>Action</td>\n",
       "      <td>3.443835</td>\n",
       "    </tr>\n",
       "    <tr>\n",
       "      <th>5</th>\n",
       "      <td>Sci-Fi</td>\n",
       "      <td>3.414301</td>\n",
       "    </tr>\n",
       "    <tr>\n",
       "      <th>9</th>\n",
       "      <td>Comedy</td>\n",
       "      <td>3.388250</td>\n",
       "    </tr>\n",
       "    <tr>\n",
       "      <th>1</th>\n",
       "      <td>Children</td>\n",
       "      <td>3.365155</td>\n",
       "    </tr>\n",
       "    <tr>\n",
       "      <th>12</th>\n",
       "      <td>Horror</td>\n",
       "      <td>3.232296</td>\n",
       "    </tr>\n",
       "    <tr>\n",
       "      <th>19</th>\n",
       "      <td>(no genres listed)</td>\n",
       "      <td>3.000000</td>\n",
       "    </tr>\n",
       "  </tbody>\n",
       "</table>\n",
       "</div>"
      ],
      "text/plain": [
       "                 genre  rating average\n",
       "17           Film-Noir        3.977295\n",
       "11                 War        3.815907\n",
       "18         Documentary        3.743519\n",
       "7                Crime        3.673462\n",
       "16                IMAX        3.663727\n",
       "4              Mystery        3.661554\n",
       "3                Drama        3.659290\n",
       "15           Animation        3.584332\n",
       "14             Western        3.529826\n",
       "10             Romance        3.521331\n",
       "13             Musical        3.519177\n",
       "6             Thriller        3.510124\n",
       "2              Fantasy        3.499667\n",
       "0            Adventure        3.498833\n",
       "8               Action        3.443835\n",
       "5               Sci-Fi        3.414301\n",
       "9               Comedy        3.388250\n",
       "1             Children        3.365155\n",
       "12              Horror        3.232296\n",
       "19  (no genres listed)        3.000000"
      ]
     },
     "execution_count": 20,
     "metadata": {},
     "output_type": "execute_result"
    }
   ],
   "source": [
    "genre_rating_value=[]\n",
    "for genre in genres:\n",
    "    avg_rate=df_final.loc[df_final[genre]==1]['rating'].mean()\n",
    "    genre_rating_value.append(avg_rate)\n",
    "\n",
    "# converting the dict into dataframe\n",
    "df_genre_rating=pd.DataFrame({'genre':genres,'rating average':genre_rating_value})\n",
    "df_genre_rating.sort_values('rating average', ascending=False)"
   ]
  },
  {
   "cell_type": "code",
   "execution_count": 21,
   "id": "086f0e19",
   "metadata": {},
   "outputs": [
    {
     "data": {
      "image/png": "[encoded data removed]",
      "text/plain": [
       "<Figure size 640x480 with 1 Axes>"
      ]
     },
     "metadata": {},
     "output_type": "display_data"
    }
   ],
   "source": [
    "sns.set()\n",
    "sns.lineplot(x='genre', y='rating average', data=df_genre_rating, marker='o', color='green')\n",
    "plt.xticks(rotation=90)\n",
    "plt.show()"
   ]
  },
  {
   "cell_type": "markdown",
   "id": "9f7da4a8",
   "metadata": {},
   "source": [
    "### from this graph and the dataframe we can gather the following insights:\n",
    "1. The top liked genres are:\n",
    "    1. Film-Noir (3.977295)\n",
    "    2. War (3.815907)\n",
    "    3. Documentary\t(3.743519)\n",
    "    \n",
    "2. The least liked genres are:\n",
    "    1. Horror (3.232296)\n",
    "    2. Children\t(3.365155)\n",
    "    3. Comedy (3.388250)"
   ]
  },
  {
   "cell_type": "markdown",
   "id": "31ce02b7",
   "metadata": {},
   "source": [
    "#### 3. Number of movies in each genre"
   ]
  },
  {
   "cell_type": "code",
   "execution_count": 22,
   "id": "7294a648",
   "metadata": {},
   "outputs": [
    {
     "data": {
      "text/html": [
       "<div>\n",
       "<style scoped>\n",
       "    .dataframe tbody tr th:only-of-type {\n",
       "        vertical-align: middle;\n",
       "    }\n",
       "\n",
       "    .dataframe tbody tr th {\n",
       "        vertical-align: top;\n",
       "    }\n",
       "\n",
       "    .dataframe thead th {\n",
       "        text-align: right;\n",
       "    }\n",
       "</style>\n",
       "<table border=\"1\" class=\"dataframe\">\n",
       "  <thead>\n",
       "    <tr style=\"text-align: right;\">\n",
       "      <th></th>\n",
       "      <th>genre</th>\n",
       "      <th>number of movies</th>\n",
       "    </tr>\n",
       "  </thead>\n",
       "  <tbody>\n",
       "    <tr>\n",
       "      <th>3</th>\n",
       "      <td>Drama</td>\n",
       "      <td>86449</td>\n",
       "    </tr>\n",
       "    <tr>\n",
       "      <th>9</th>\n",
       "      <td>Comedy</td>\n",
       "      <td>75597</td>\n",
       "    </tr>\n",
       "    <tr>\n",
       "      <th>8</th>\n",
       "      <td>Action</td>\n",
       "      <td>56574</td>\n",
       "    </tr>\n",
       "    <tr>\n",
       "      <th>6</th>\n",
       "      <td>Thriller</td>\n",
       "      <td>53535</td>\n",
       "    </tr>\n",
       "    <tr>\n",
       "      <th>0</th>\n",
       "      <td>Adventure</td>\n",
       "      <td>43703</td>\n",
       "    </tr>\n",
       "    <tr>\n",
       "      <th>10</th>\n",
       "      <td>Romance</td>\n",
       "      <td>37598</td>\n",
       "    </tr>\n",
       "    <tr>\n",
       "      <th>7</th>\n",
       "      <td>Crime</td>\n",
       "      <td>32520</td>\n",
       "    </tr>\n",
       "    <tr>\n",
       "      <th>5</th>\n",
       "      <td>Sci-Fi</td>\n",
       "      <td>32054</td>\n",
       "    </tr>\n",
       "    <tr>\n",
       "      <th>2</th>\n",
       "      <td>Fantasy</td>\n",
       "      <td>21010</td>\n",
       "    </tr>\n",
       "    <tr>\n",
       "      <th>1</th>\n",
       "      <td>Children</td>\n",
       "      <td>16519</td>\n",
       "    </tr>\n",
       "    <tr>\n",
       "      <th>12</th>\n",
       "      <td>Horror</td>\n",
       "      <td>15646</td>\n",
       "    </tr>\n",
       "    <tr>\n",
       "      <th>4</th>\n",
       "      <td>Mystery</td>\n",
       "      <td>15583</td>\n",
       "    </tr>\n",
       "    <tr>\n",
       "      <th>15</th>\n",
       "      <td>Animation</td>\n",
       "      <td>11010</td>\n",
       "    </tr>\n",
       "    <tr>\n",
       "      <th>11</th>\n",
       "      <td>War</td>\n",
       "      <td>10310</td>\n",
       "    </tr>\n",
       "    <tr>\n",
       "      <th>13</th>\n",
       "      <td>Musical</td>\n",
       "      <td>8552</td>\n",
       "    </tr>\n",
       "    <tr>\n",
       "      <th>16</th>\n",
       "      <td>IMAX</td>\n",
       "      <td>4819</td>\n",
       "    </tr>\n",
       "    <tr>\n",
       "      <th>14</th>\n",
       "      <td>Western</td>\n",
       "      <td>4610</td>\n",
       "    </tr>\n",
       "    <tr>\n",
       "      <th>18</th>\n",
       "      <td>Documentary</td>\n",
       "      <td>2353</td>\n",
       "    </tr>\n",
       "    <tr>\n",
       "      <th>17</th>\n",
       "      <td>Film-Noir</td>\n",
       "      <td>2026</td>\n",
       "    </tr>\n",
       "    <tr>\n",
       "      <th>19</th>\n",
       "      <td>(no genres listed)</td>\n",
       "      <td>1</td>\n",
       "    </tr>\n",
       "  </tbody>\n",
       "</table>\n",
       "</div>"
      ],
      "text/plain": [
       "                 genre  number of movies\n",
       "3                Drama             86449\n",
       "9               Comedy             75597\n",
       "8               Action             56574\n",
       "6             Thriller             53535\n",
       "0            Adventure             43703\n",
       "10             Romance             37598\n",
       "7                Crime             32520\n",
       "5               Sci-Fi             32054\n",
       "2              Fantasy             21010\n",
       "1             Children             16519\n",
       "12              Horror             15646\n",
       "4              Mystery             15583\n",
       "15           Animation             11010\n",
       "11                 War             10310\n",
       "13             Musical              8552\n",
       "16                IMAX              4819\n",
       "14             Western              4610\n",
       "18         Documentary              2353\n",
       "17           Film-Noir              2026\n",
       "19  (no genres listed)                 1"
      ]
     },
     "execution_count": 22,
     "metadata": {},
     "output_type": "execute_result"
    }
   ],
   "source": [
    "genre_movie_count=[]\n",
    "for genre in genres:\n",
    "    movie_count=df_final.loc[df_final[genre]==1]['movieId'].count()\n",
    "    genre_movie_count.append(movie_count)\n",
    "\n",
    "# converting the dict into dataframe\n",
    "df_movie_count=pd.DataFrame({'genre':genres,'number of movies':genre_movie_count})\n",
    "df_movie_count.sort_values('number of movies', ascending=False)"
   ]
  },
  {
   "cell_type": "code",
   "execution_count": 23,
   "id": "98f6f84b",
   "metadata": {},
   "outputs": [
    {
     "data": {
      "image/png": "[encoded data removed]",
      "text/plain": [
       "<Figure size 640x480 with 1 Axes>"
      ]
     },
     "metadata": {},
     "output_type": "display_data"
    }
   ],
   "source": [
    "sns.lineplot(x='genre', y='number of movies', data=df_movie_count, marker='o', color='orange')\n",
    "plt.xticks(rotation=90)\n",
    "plt.show()"
   ]
  },
  {
   "cell_type": "markdown",
   "id": "8fad10cf",
   "metadata": {},
   "source": [
    "### from this graph and the dataframe we can gather the following insights:\n",
    "1. Highest number of movies belong to the genre:\n",
    "    1. Drama\t86449\n",
    "    2. Comedy\t75597\n",
    "    3. Action\t56574\n",
    "    \n",
    "2. The least number of movies belong to the genres:\n",
    "    1. Film-Noir\t2026\n",
    "    2. Documentary\t2353\n",
    "    3. Western\t4610"
   ]
  },
  {
   "cell_type": "markdown",
   "id": "996786b2",
   "metadata": {},
   "source": [
    "### --------------------------------------------------------------------------------------------------------\n",
    "### *5. Collaborative movie recommendation system*\n",
    "\n",
    "The current content-based recommendation engine we have has significant limitations. It can only suggest movies that are similar to a particular movie and cannot provide recommendations across different genres or capture individual preferences. Additionally, the engine does not take into account the unique tastes and biases of individual users, as it provides the same recommendations to all users who query it for a particular movie.\n",
    "\n",
    "To overcome these limitations, we will use a technique called Collaborative Filtering, which uses the behavior and preferences of similar users to predict how much a user will like a particular movie that they have not yet watched. This approach leverages the idea that users who have similar preferences can be used to make accurate recommendations and tailor them to each user's individual tastes.\n",
    "\n",
    "In this collaborative filtering system we will be creating a user-movie rating matrix that will tell us how users rated every movie and from there we will be using the nearest neighbor model to form user clusters and based on those user clusters we will be recommending the movies.\n",
    "This matrix will tell us how the users have rated a particular movie\n",
    "\n",
    "In this section we will be \n",
    "1. Forming a movie and user rating matrix so that we can easily cluster the similar users (using pivot table)\n",
    "2. K Means clustering (building the model)\n",
    "3. Training the model and visualisation\n",
    "4. Evaluating the model"
   ]
  },
  {
   "cell_type": "markdown",
   "id": "e75cb113",
   "metadata": {},
   "source": [
    "## 1. Forming the pivot table"
   ]
  },
  {
   "cell_type": "code",
   "execution_count": 24,
   "id": "d9aefd08",
   "metadata": {},
   "outputs": [
    {
     "data": {
      "text/html": [
       "<div>\n",
       "<style scoped>\n",
       "    .dataframe tbody tr th:only-of-type {\n",
       "        vertical-align: middle;\n",
       "    }\n",
       "\n",
       "    .dataframe tbody tr th {\n",
       "        vertical-align: top;\n",
       "    }\n",
       "\n",
       "    .dataframe thead th {\n",
       "        text-align: right;\n",
       "    }\n",
       "</style>\n",
       "<table border=\"1\" class=\"dataframe\">\n",
       "  <thead>\n",
       "    <tr style=\"text-align: right;\">\n",
       "      <th>userId</th>\n",
       "      <th>1</th>\n",
       "      <th>2</th>\n",
       "      <th>3</th>\n",
       "      <th>4</th>\n",
       "      <th>5</th>\n",
       "      <th>6</th>\n",
       "      <th>7</th>\n",
       "      <th>8</th>\n",
       "      <th>9</th>\n",
       "      <th>10</th>\n",
       "      <th>...</th>\n",
       "      <th>1362</th>\n",
       "      <th>1363</th>\n",
       "      <th>1364</th>\n",
       "      <th>1365</th>\n",
       "      <th>1366</th>\n",
       "      <th>1367</th>\n",
       "      <th>1368</th>\n",
       "      <th>1369</th>\n",
       "      <th>1370</th>\n",
       "      <th>1371</th>\n",
       "    </tr>\n",
       "    <tr>\n",
       "      <th>title</th>\n",
       "      <th></th>\n",
       "      <th></th>\n",
       "      <th></th>\n",
       "      <th></th>\n",
       "      <th></th>\n",
       "      <th></th>\n",
       "      <th></th>\n",
       "      <th></th>\n",
       "      <th></th>\n",
       "      <th></th>\n",
       "      <th></th>\n",
       "      <th></th>\n",
       "      <th></th>\n",
       "      <th></th>\n",
       "      <th></th>\n",
       "      <th></th>\n",
       "      <th></th>\n",
       "      <th></th>\n",
       "      <th></th>\n",
       "      <th></th>\n",
       "      <th></th>\n",
       "    </tr>\n",
       "  </thead>\n",
       "  <tbody>\n",
       "    <tr>\n",
       "      <th>'Hellboy': The Seeds of Creation (2004)</th>\n",
       "      <td>NaN</td>\n",
       "      <td>NaN</td>\n",
       "      <td>NaN</td>\n",
       "      <td>NaN</td>\n",
       "      <td>NaN</td>\n",
       "      <td>NaN</td>\n",
       "      <td>NaN</td>\n",
       "      <td>NaN</td>\n",
       "      <td>NaN</td>\n",
       "      <td>NaN</td>\n",
       "      <td>...</td>\n",
       "      <td>NaN</td>\n",
       "      <td>NaN</td>\n",
       "      <td>NaN</td>\n",
       "      <td>NaN</td>\n",
       "      <td>NaN</td>\n",
       "      <td>NaN</td>\n",
       "      <td>NaN</td>\n",
       "      <td>NaN</td>\n",
       "      <td>NaN</td>\n",
       "      <td>NaN</td>\n",
       "    </tr>\n",
       "    <tr>\n",
       "      <th>'Neath the Arizona Skies (1934)</th>\n",
       "      <td>NaN</td>\n",
       "      <td>NaN</td>\n",
       "      <td>NaN</td>\n",
       "      <td>NaN</td>\n",
       "      <td>NaN</td>\n",
       "      <td>NaN</td>\n",
       "      <td>NaN</td>\n",
       "      <td>NaN</td>\n",
       "      <td>NaN</td>\n",
       "      <td>NaN</td>\n",
       "      <td>...</td>\n",
       "      <td>NaN</td>\n",
       "      <td>NaN</td>\n",
       "      <td>NaN</td>\n",
       "      <td>NaN</td>\n",
       "      <td>NaN</td>\n",
       "      <td>NaN</td>\n",
       "      <td>NaN</td>\n",
       "      <td>NaN</td>\n",
       "      <td>NaN</td>\n",
       "      <td>NaN</td>\n",
       "    </tr>\n",
       "    <tr>\n",
       "      <th>'Round Midnight (1986)</th>\n",
       "      <td>NaN</td>\n",
       "      <td>NaN</td>\n",
       "      <td>NaN</td>\n",
       "      <td>NaN</td>\n",
       "      <td>NaN</td>\n",
       "      <td>NaN</td>\n",
       "      <td>NaN</td>\n",
       "      <td>NaN</td>\n",
       "      <td>NaN</td>\n",
       "      <td>NaN</td>\n",
       "      <td>...</td>\n",
       "      <td>NaN</td>\n",
       "      <td>NaN</td>\n",
       "      <td>NaN</td>\n",
       "      <td>NaN</td>\n",
       "      <td>NaN</td>\n",
       "      <td>NaN</td>\n",
       "      <td>NaN</td>\n",
       "      <td>NaN</td>\n",
       "      <td>NaN</td>\n",
       "      <td>NaN</td>\n",
       "    </tr>\n",
       "    <tr>\n",
       "      <th>'Salem's Lot (2004)</th>\n",
       "      <td>NaN</td>\n",
       "      <td>NaN</td>\n",
       "      <td>NaN</td>\n",
       "      <td>NaN</td>\n",
       "      <td>NaN</td>\n",
       "      <td>NaN</td>\n",
       "      <td>NaN</td>\n",
       "      <td>NaN</td>\n",
       "      <td>NaN</td>\n",
       "      <td>NaN</td>\n",
       "      <td>...</td>\n",
       "      <td>NaN</td>\n",
       "      <td>NaN</td>\n",
       "      <td>NaN</td>\n",
       "      <td>NaN</td>\n",
       "      <td>NaN</td>\n",
       "      <td>NaN</td>\n",
       "      <td>NaN</td>\n",
       "      <td>NaN</td>\n",
       "      <td>NaN</td>\n",
       "      <td>NaN</td>\n",
       "    </tr>\n",
       "    <tr>\n",
       "      <th>'Til There Was You (1997)</th>\n",
       "      <td>NaN</td>\n",
       "      <td>NaN</td>\n",
       "      <td>NaN</td>\n",
       "      <td>NaN</td>\n",
       "      <td>NaN</td>\n",
       "      <td>NaN</td>\n",
       "      <td>NaN</td>\n",
       "      <td>NaN</td>\n",
       "      <td>NaN</td>\n",
       "      <td>NaN</td>\n",
       "      <td>...</td>\n",
       "      <td>NaN</td>\n",
       "      <td>NaN</td>\n",
       "      <td>NaN</td>\n",
       "      <td>NaN</td>\n",
       "      <td>NaN</td>\n",
       "      <td>NaN</td>\n",
       "      <td>NaN</td>\n",
       "      <td>NaN</td>\n",
       "      <td>NaN</td>\n",
       "      <td>NaN</td>\n",
       "    </tr>\n",
       "  </tbody>\n",
       "</table>\n",
       "<p>5 rows × 1371 columns</p>\n",
       "</div>"
      ],
      "text/plain": [
       "userId                                   1     2     3     4     5     6     \\\n",
       "title                                                                         \n",
       "'Hellboy': The Seeds of Creation (2004)   NaN   NaN   NaN   NaN   NaN   NaN   \n",
       "'Neath the Arizona Skies (1934)           NaN   NaN   NaN   NaN   NaN   NaN   \n",
       "'Round Midnight (1986)                    NaN   NaN   NaN   NaN   NaN   NaN   \n",
       "'Salem's Lot (2004)                       NaN   NaN   NaN   NaN   NaN   NaN   \n",
       "'Til There Was You (1997)                 NaN   NaN   NaN   NaN   NaN   NaN   \n",
       "\n",
       "userId                                   7     8     9     10    ...  1362  \\\n",
       "title                                                            ...         \n",
       "'Hellboy': The Seeds of Creation (2004)   NaN   NaN   NaN   NaN  ...   NaN   \n",
       "'Neath the Arizona Skies (1934)           NaN   NaN   NaN   NaN  ...   NaN   \n",
       "'Round Midnight (1986)                    NaN   NaN   NaN   NaN  ...   NaN   \n",
       "'Salem's Lot (2004)                       NaN   NaN   NaN   NaN  ...   NaN   \n",
       "'Til There Was You (1997)                 NaN   NaN   NaN   NaN  ...   NaN   \n",
       "\n",
       "userId                                   1363  1364  1365  1366  1367  1368  \\\n",
       "title                                                                         \n",
       "'Hellboy': The Seeds of Creation (2004)   NaN   NaN   NaN   NaN   NaN   NaN   \n",
       "'Neath the Arizona Skies (1934)           NaN   NaN   NaN   NaN   NaN   NaN   \n",
       "'Round Midnight (1986)                    NaN   NaN   NaN   NaN   NaN   NaN   \n",
       "'Salem's Lot (2004)                       NaN   NaN   NaN   NaN   NaN   NaN   \n",
       "'Til There Was You (1997)                 NaN   NaN   NaN   NaN   NaN   NaN   \n",
       "\n",
       "userId                                   1369  1370  1371  \n",
       "title                                                      \n",
       "'Hellboy': The Seeds of Creation (2004)   NaN   NaN   NaN  \n",
       "'Neath the Arizona Skies (1934)           NaN   NaN   NaN  \n",
       "'Round Midnight (1986)                    NaN   NaN   NaN  \n",
       "'Salem's Lot (2004)                       NaN   NaN   NaN  \n",
       "'Til There Was You (1997)                 NaN   NaN   NaN  \n",
       "\n",
       "[5 rows x 1371 columns]"
      ]
     },
     "execution_count": 24,
     "metadata": {},
     "output_type": "execute_result"
    }
   ],
   "source": [
    "rating_pivot=df_rating.pivot_table(columns='userId', index='title', values='rating')\n",
    "rating_pivot.head()"
   ]
  },
  {
   "cell_type": "markdown",
   "id": "2cd9203a",
   "metadata": {},
   "source": [
    "#### Since we cannot process nan values we are going to change them to 0.0"
   ]
  },
  {
   "cell_type": "code",
   "execution_count": 25,
   "id": "52a3093d",
   "metadata": {},
   "outputs": [
    {
     "data": {
      "text/html": [
       "<div>\n",
       "<style scoped>\n",
       "    .dataframe tbody tr th:only-of-type {\n",
       "        vertical-align: middle;\n",
       "    }\n",
       "\n",
       "    .dataframe tbody tr th {\n",
       "        vertical-align: top;\n",
       "    }\n",
       "\n",
       "    .dataframe thead th {\n",
       "        text-align: right;\n",
       "    }\n",
       "</style>\n",
       "<table border=\"1\" class=\"dataframe\">\n",
       "  <thead>\n",
       "    <tr style=\"text-align: right;\">\n",
       "      <th>userId</th>\n",
       "      <th>1</th>\n",
       "      <th>2</th>\n",
       "      <th>3</th>\n",
       "      <th>4</th>\n",
       "      <th>5</th>\n",
       "      <th>6</th>\n",
       "      <th>7</th>\n",
       "      <th>8</th>\n",
       "      <th>9</th>\n",
       "      <th>10</th>\n",
       "      <th>...</th>\n",
       "      <th>1362</th>\n",
       "      <th>1363</th>\n",
       "      <th>1364</th>\n",
       "      <th>1365</th>\n",
       "      <th>1366</th>\n",
       "      <th>1367</th>\n",
       "      <th>1368</th>\n",
       "      <th>1369</th>\n",
       "      <th>1370</th>\n",
       "      <th>1371</th>\n",
       "    </tr>\n",
       "    <tr>\n",
       "      <th>title</th>\n",
       "      <th></th>\n",
       "      <th></th>\n",
       "      <th></th>\n",
       "      <th></th>\n",
       "      <th></th>\n",
       "      <th></th>\n",
       "      <th></th>\n",
       "      <th></th>\n",
       "      <th></th>\n",
       "      <th></th>\n",
       "      <th></th>\n",
       "      <th></th>\n",
       "      <th></th>\n",
       "      <th></th>\n",
       "      <th></th>\n",
       "      <th></th>\n",
       "      <th></th>\n",
       "      <th></th>\n",
       "      <th></th>\n",
       "      <th></th>\n",
       "      <th></th>\n",
       "    </tr>\n",
       "  </thead>\n",
       "  <tbody>\n",
       "    <tr>\n",
       "      <th>'Hellboy': The Seeds of Creation (2004)</th>\n",
       "      <td>0.0</td>\n",
       "      <td>0.0</td>\n",
       "      <td>0.0</td>\n",
       "      <td>0.0</td>\n",
       "      <td>0.0</td>\n",
       "      <td>0.0</td>\n",
       "      <td>0.0</td>\n",
       "      <td>0.0</td>\n",
       "      <td>0.0</td>\n",
       "      <td>0.0</td>\n",
       "      <td>...</td>\n",
       "      <td>0.0</td>\n",
       "      <td>0.0</td>\n",
       "      <td>0.0</td>\n",
       "      <td>0.0</td>\n",
       "      <td>0.0</td>\n",
       "      <td>0.0</td>\n",
       "      <td>0.0</td>\n",
       "      <td>0.0</td>\n",
       "      <td>0.0</td>\n",
       "      <td>0.0</td>\n",
       "    </tr>\n",
       "    <tr>\n",
       "      <th>'Neath the Arizona Skies (1934)</th>\n",
       "      <td>0.0</td>\n",
       "      <td>0.0</td>\n",
       "      <td>0.0</td>\n",
       "      <td>0.0</td>\n",
       "      <td>0.0</td>\n",
       "      <td>0.0</td>\n",
       "      <td>0.0</td>\n",
       "      <td>0.0</td>\n",
       "      <td>0.0</td>\n",
       "      <td>0.0</td>\n",
       "      <td>...</td>\n",
       "      <td>0.0</td>\n",
       "      <td>0.0</td>\n",
       "      <td>0.0</td>\n",
       "      <td>0.0</td>\n",
       "      <td>0.0</td>\n",
       "      <td>0.0</td>\n",
       "      <td>0.0</td>\n",
       "      <td>0.0</td>\n",
       "      <td>0.0</td>\n",
       "      <td>0.0</td>\n",
       "    </tr>\n",
       "    <tr>\n",
       "      <th>'Round Midnight (1986)</th>\n",
       "      <td>0.0</td>\n",
       "      <td>0.0</td>\n",
       "      <td>0.0</td>\n",
       "      <td>0.0</td>\n",
       "      <td>0.0</td>\n",
       "      <td>0.0</td>\n",
       "      <td>0.0</td>\n",
       "      <td>0.0</td>\n",
       "      <td>0.0</td>\n",
       "      <td>0.0</td>\n",
       "      <td>...</td>\n",
       "      <td>0.0</td>\n",
       "      <td>0.0</td>\n",
       "      <td>0.0</td>\n",
       "      <td>0.0</td>\n",
       "      <td>0.0</td>\n",
       "      <td>0.0</td>\n",
       "      <td>0.0</td>\n",
       "      <td>0.0</td>\n",
       "      <td>0.0</td>\n",
       "      <td>0.0</td>\n",
       "    </tr>\n",
       "    <tr>\n",
       "      <th>'Salem's Lot (2004)</th>\n",
       "      <td>0.0</td>\n",
       "      <td>0.0</td>\n",
       "      <td>0.0</td>\n",
       "      <td>0.0</td>\n",
       "      <td>0.0</td>\n",
       "      <td>0.0</td>\n",
       "      <td>0.0</td>\n",
       "      <td>0.0</td>\n",
       "      <td>0.0</td>\n",
       "      <td>0.0</td>\n",
       "      <td>...</td>\n",
       "      <td>0.0</td>\n",
       "      <td>0.0</td>\n",
       "      <td>0.0</td>\n",
       "      <td>0.0</td>\n",
       "      <td>0.0</td>\n",
       "      <td>0.0</td>\n",
       "      <td>0.0</td>\n",
       "      <td>0.0</td>\n",
       "      <td>0.0</td>\n",
       "      <td>0.0</td>\n",
       "    </tr>\n",
       "    <tr>\n",
       "      <th>'Til There Was You (1997)</th>\n",
       "      <td>0.0</td>\n",
       "      <td>0.0</td>\n",
       "      <td>0.0</td>\n",
       "      <td>0.0</td>\n",
       "      <td>0.0</td>\n",
       "      <td>0.0</td>\n",
       "      <td>0.0</td>\n",
       "      <td>0.0</td>\n",
       "      <td>0.0</td>\n",
       "      <td>0.0</td>\n",
       "      <td>...</td>\n",
       "      <td>0.0</td>\n",
       "      <td>0.0</td>\n",
       "      <td>0.0</td>\n",
       "      <td>0.0</td>\n",
       "      <td>0.0</td>\n",
       "      <td>0.0</td>\n",
       "      <td>0.0</td>\n",
       "      <td>0.0</td>\n",
       "      <td>0.0</td>\n",
       "      <td>0.0</td>\n",
       "    </tr>\n",
       "  </tbody>\n",
       "</table>\n",
       "<p>5 rows × 1371 columns</p>\n",
       "</div>"
      ],
      "text/plain": [
       "userId                                  1    2    3    4    5    6    7     \\\n",
       "title                                                                        \n",
       "'Hellboy': The Seeds of Creation (2004)  0.0  0.0  0.0  0.0  0.0  0.0  0.0   \n",
       "'Neath the Arizona Skies (1934)          0.0  0.0  0.0  0.0  0.0  0.0  0.0   \n",
       "'Round Midnight (1986)                   0.0  0.0  0.0  0.0  0.0  0.0  0.0   \n",
       "'Salem's Lot (2004)                      0.0  0.0  0.0  0.0  0.0  0.0  0.0   \n",
       "'Til There Was You (1997)                0.0  0.0  0.0  0.0  0.0  0.0  0.0   \n",
       "\n",
       "userId                                  8    9    10    ... 1362 1363 1364  \\\n",
       "title                                                   ...                  \n",
       "'Hellboy': The Seeds of Creation (2004)  0.0  0.0  0.0  ...  0.0  0.0  0.0   \n",
       "'Neath the Arizona Skies (1934)          0.0  0.0  0.0  ...  0.0  0.0  0.0   \n",
       "'Round Midnight (1986)                   0.0  0.0  0.0  ...  0.0  0.0  0.0   \n",
       "'Salem's Lot (2004)                      0.0  0.0  0.0  ...  0.0  0.0  0.0   \n",
       "'Til There Was You (1997)                0.0  0.0  0.0  ...  0.0  0.0  0.0   \n",
       "\n",
       "userId                                  1365 1366 1367 1368 1369 1370 1371  \n",
       "title                                                                       \n",
       "'Hellboy': The Seeds of Creation (2004)  0.0  0.0  0.0  0.0  0.0  0.0  0.0  \n",
       "'Neath the Arizona Skies (1934)          0.0  0.0  0.0  0.0  0.0  0.0  0.0  \n",
       "'Round Midnight (1986)                   0.0  0.0  0.0  0.0  0.0  0.0  0.0  \n",
       "'Salem's Lot (2004)                      0.0  0.0  0.0  0.0  0.0  0.0  0.0  \n",
       "'Til There Was You (1997)                0.0  0.0  0.0  0.0  0.0  0.0  0.0  \n",
       "\n",
       "[5 rows x 1371 columns]"
      ]
     },
     "execution_count": 25,
     "metadata": {},
     "output_type": "execute_result"
    }
   ],
   "source": [
    "rating_pivot.fillna('0.0', inplace=True)\n",
    "rating_pivot.head()"
   ]
  },
  {
   "cell_type": "code",
   "execution_count": 26,
   "id": "0cfb01f7",
   "metadata": {},
   "outputs": [
    {
     "data": {
      "text/plain": [
       "array(['0.0', 3.5, 4.0, 3.0, 5.0, 4.5], dtype=object)"
      ]
     },
     "execution_count": 26,
     "metadata": {},
     "output_type": "execute_result"
    }
   ],
   "source": [
    "rating_pivot[1].unique()"
   ]
  },
  {
   "cell_type": "code",
   "execution_count": 27,
   "id": "8168ad2a",
   "metadata": {},
   "outputs": [],
   "source": [
    "#converting the dtype of values into float\n",
    "rating_pivot=rating_pivot.astype('float')"
   ]
  },
  {
   "cell_type": "code",
   "execution_count": 28,
   "id": "6e4527e4",
   "metadata": {},
   "outputs": [
    {
     "data": {
      "text/plain": [
       "dtype('float64')"
      ]
     },
     "execution_count": 28,
     "metadata": {},
     "output_type": "execute_result"
    }
   ],
   "source": [
    "rating_pivot[1].dtype"
   ]
  },
  {
   "cell_type": "markdown",
   "id": "4c37b727",
   "metadata": {},
   "source": [
    "#### Now since there are a lot of 0 values and they will have no impact on k means clustering (using eucludian distance) to make it more efficint we will be converting the pivot table into a sparce matrix using the scipy module and csr_matrix function.\n",
    "The SciPy library provides a module called scipy.sparse that implements various types of sparse matrices. One of these matrix formats is the Compressed Sparse Row (CSR) format, which is commonly used for sparse matrix operations in numerical computations."
   ]
  },
  {
   "cell_type": "code",
   "execution_count": 29,
   "id": "49e6b14a",
   "metadata": {},
   "outputs": [
    {
     "data": {
      "text/plain": [
       "<10151x1371 sparse matrix of type '<class 'numpy.float64'>'\n",
       "\twith 199997 stored elements in Compressed Sparse Row format>"
      ]
     },
     "execution_count": 29,
     "metadata": {},
     "output_type": "execute_result"
    }
   ],
   "source": [
    "rating_pivot=csr_matrix(rating_pivot)\n",
    "rating_pivot"
   ]
  },
  {
   "cell_type": "markdown",
   "id": "a4fc6bed",
   "metadata": {},
   "source": [
    "## 2. KMeans clustering\n",
    "We can group users based on their movie ratings using a user-item rating matrix, where each row represents me as a user and each column represents a movie, with the values in the matrix representing my rating for the corresponding movie.\n",
    "\n",
    "By treating each row as a data point and using k-means clustering, I can group similar users together based on their ratings, choosing the number of clusters with the elbow method. \n",
    "\n",
    "Once the users have been clustered, you can recommend movies to new users by suggesting movies that have been highly rated by users in the same cluster. This approach assumes that users in the same cluster have similar movie preferences, and therefore, are likely to enjoy the same movies."
   ]
  },
  {
   "cell_type": "code",
   "execution_count": 30,
   "id": "bbfe5064",
   "metadata": {},
   "outputs": [
    {
     "data": {
      "text/html": [
       "<style>#sk-container-id-1 {color: black;background-color: white;}#sk-container-id-1 pre{padding: 0;}#sk-container-id-1 div.sk-toggleable {background-color: white;}#sk-container-id-1 label.sk-toggleable__label {cursor: pointer;display: block;width: 100%;margin-bottom: 0;padding: 0.3em;box-sizing: border-box;text-align: center;}#sk-container-id-1 label.sk-toggleable__label-arrow:before {content: \"▸\";float: left;margin-right: 0.25em;color: #696969;}#sk-container-id-1 label.sk-toggleable__label-arrow:hover:before {color: black;}#sk-container-id-1 div.sk-estimator:hover label.sk-toggleable__label-arrow:before {color: black;}#sk-container-id-1 div.sk-toggleable__content {max-height: 0;max-width: 0;overflow: hidden;text-align: left;background-color: #f0f8ff;}#sk-container-id-1 div.sk-toggleable__content pre {margin: 0.2em;color: black;border-radius: 0.25em;background-color: #f0f8ff;}#sk-container-id-1 input.sk-toggleable__control:checked~div.sk-toggleable__content {max-height: 200px;max-width: 100%;overflow: auto;}#sk-container-id-1 input.sk-toggleable__control:checked~label.sk-toggleable__label-arrow:before {content: \"▾\";}#sk-container-id-1 div.sk-estimator input.sk-toggleable__control:checked~label.sk-toggleable__label {background-color: #d4ebff;}#sk-container-id-1 div.sk-label input.sk-toggleable__control:checked~label.sk-toggleable__label {background-color: #d4ebff;}#sk-container-id-1 input.sk-hidden--visually {border: 0;clip: rect(1px 1px 1px 1px);clip: rect(1px, 1px, 1px, 1px);height: 1px;margin: -1px;overflow: hidden;padding: 0;position: absolute;width: 1px;}#sk-container-id-1 div.sk-estimator {font-family: monospace;background-color: #f0f8ff;border: 1px dotted black;border-radius: 0.25em;box-sizing: border-box;margin-bottom: 0.5em;}#sk-container-id-1 div.sk-estimator:hover {background-color: #d4ebff;}#sk-container-id-1 div.sk-parallel-item::after {content: \"\";width: 100%;border-bottom: 1px solid gray;flex-grow: 1;}#sk-container-id-1 div.sk-label:hover label.sk-toggleable__label {background-color: #d4ebff;}#sk-container-id-1 div.sk-serial::before {content: \"\";position: absolute;border-left: 1px solid gray;box-sizing: border-box;top: 0;bottom: 0;left: 50%;z-index: 0;}#sk-container-id-1 div.sk-serial {display: flex;flex-direction: column;align-items: center;background-color: white;padding-right: 0.2em;padding-left: 0.2em;position: relative;}#sk-container-id-1 div.sk-item {position: relative;z-index: 1;}#sk-container-id-1 div.sk-parallel {display: flex;align-items: stretch;justify-content: center;background-color: white;position: relative;}#sk-container-id-1 div.sk-item::before, #sk-container-id-1 div.sk-parallel-item::before {content: \"\";position: absolute;border-left: 1px solid gray;box-sizing: border-box;top: 0;bottom: 0;left: 50%;z-index: -1;}#sk-container-id-1 div.sk-parallel-item {display: flex;flex-direction: column;z-index: 1;position: relative;background-color: white;}#sk-container-id-1 div.sk-parallel-item:first-child::after {align-self: flex-end;width: 50%;}#sk-container-id-1 div.sk-parallel-item:last-child::after {align-self: flex-start;width: 50%;}#sk-container-id-1 div.sk-parallel-item:only-child::after {width: 0;}#sk-container-id-1 div.sk-dashed-wrapped {border: 1px dashed gray;margin: 0 0.4em 0.5em 0.4em;box-sizing: border-box;padding-bottom: 0.4em;background-color: white;}#sk-container-id-1 div.sk-label label {font-family: monospace;font-weight: bold;display: inline-block;line-height: 1.2em;}#sk-container-id-1 div.sk-label-container {text-align: center;}#sk-container-id-1 div.sk-container {/* jupyter's `normalize.less` sets `[hidden] { display: none; }` but bootstrap.min.css set `[hidden] { display: none !important; }` so we also need the `!important` here to be able to override the default hidden behavior on the sphinx rendered scikit-learn.org. See: https://github.com/scikit-learn/scikit-learn/issues/21755 */display: inline-block !important;position: relative;}#sk-container-id-1 div.sk-text-repr-fallback {display: none;}</style><div id=\"sk-container-id-1\" class=\"sk-top-container\"><div class=\"sk-text-repr-fallback\"><pre>KMeans(n_clusters=5, n_init=12)</pre><b>In a Jupyter environment, please rerun this cell to show the HTML representation or trust the notebook. <br />On GitHub, the HTML representation is unable to render, please try loading this page with nbviewer.org.</b></div><div class=\"sk-container\" hidden><div class=\"sk-item\"><div class=\"sk-estimator sk-toggleable\"><input class=\"sk-toggleable__control sk-hidden--visually\" id=\"sk-estimator-id-1\" type=\"checkbox\" checked><label for=\"sk-estimator-id-1\" class=\"sk-toggleable__label sk-toggleable__label-arrow\">KMeans</label><div class=\"sk-toggleable__content\"><pre>KMeans(n_clusters=5, n_init=12)</pre></div></div></div></div></div>"
      ],
      "text/plain": [
       "KMeans(n_clusters=5, n_init=12)"
      ]
     },
     "execution_count": 30,
     "metadata": {},
     "output_type": "execute_result"
    }
   ],
   "source": [
    "# initializing the model\n",
    "kmeans=KMeans(init='k-means++', n_clusters=5, n_init=12)\n",
    "kmeans"
   ]
  },
  {
   "cell_type": "code",
   "execution_count": 31,
   "id": "e4a143df",
   "metadata": {
    "scrolled": true
   },
   "outputs": [
    {
     "data": {
      "text/html": [
       "<style>#sk-container-id-2 {color: black;background-color: white;}#sk-container-id-2 pre{padding: 0;}#sk-container-id-2 div.sk-toggleable {background-color: white;}#sk-container-id-2 label.sk-toggleable__label {cursor: pointer;display: block;width: 100%;margin-bottom: 0;padding: 0.3em;box-sizing: border-box;text-align: center;}#sk-container-id-2 label.sk-toggleable__label-arrow:before {content: \"▸\";float: left;margin-right: 0.25em;color: #696969;}#sk-container-id-2 label.sk-toggleable__label-arrow:hover:before {color: black;}#sk-container-id-2 div.sk-estimator:hover label.sk-toggleable__label-arrow:before {color: black;}#sk-container-id-2 div.sk-toggleable__content {max-height: 0;max-width: 0;overflow: hidden;text-align: left;background-color: #f0f8ff;}#sk-container-id-2 div.sk-toggleable__content pre {margin: 0.2em;color: black;border-radius: 0.25em;background-color: #f0f8ff;}#sk-container-id-2 input.sk-toggleable__control:checked~div.sk-toggleable__content {max-height: 200px;max-width: 100%;overflow: auto;}#sk-container-id-2 input.sk-toggleable__control:checked~label.sk-toggleable__label-arrow:before {content: \"▾\";}#sk-container-id-2 div.sk-estimator input.sk-toggleable__control:checked~label.sk-toggleable__label {background-color: #d4ebff;}#sk-container-id-2 div.sk-label input.sk-toggleable__control:checked~label.sk-toggleable__label {background-color: #d4ebff;}#sk-container-id-2 input.sk-hidden--visually {border: 0;clip: rect(1px 1px 1px 1px);clip: rect(1px, 1px, 1px, 1px);height: 1px;margin: -1px;overflow: hidden;padding: 0;position: absolute;width: 1px;}#sk-container-id-2 div.sk-estimator {font-family: monospace;background-color: #f0f8ff;border: 1px dotted black;border-radius: 0.25em;box-sizing: border-box;margin-bottom: 0.5em;}#sk-container-id-2 div.sk-estimator:hover {background-color: #d4ebff;}#sk-container-id-2 div.sk-parallel-item::after {content: \"\";width: 100%;border-bottom: 1px solid gray;flex-grow: 1;}#sk-container-id-2 div.sk-label:hover label.sk-toggleable__label {background-color: #d4ebff;}#sk-container-id-2 div.sk-serial::before {content: \"\";position: absolute;border-left: 1px solid gray;box-sizing: border-box;top: 0;bottom: 0;left: 50%;z-index: 0;}#sk-container-id-2 div.sk-serial {display: flex;flex-direction: column;align-items: center;background-color: white;padding-right: 0.2em;padding-left: 0.2em;position: relative;}#sk-container-id-2 div.sk-item {position: relative;z-index: 1;}#sk-container-id-2 div.sk-parallel {display: flex;align-items: stretch;justify-content: center;background-color: white;position: relative;}#sk-container-id-2 div.sk-item::before, #sk-container-id-2 div.sk-parallel-item::before {content: \"\";position: absolute;border-left: 1px solid gray;box-sizing: border-box;top: 0;bottom: 0;left: 50%;z-index: -1;}#sk-container-id-2 div.sk-parallel-item {display: flex;flex-direction: column;z-index: 1;position: relative;background-color: white;}#sk-container-id-2 div.sk-parallel-item:first-child::after {align-self: flex-end;width: 50%;}#sk-container-id-2 div.sk-parallel-item:last-child::after {align-self: flex-start;width: 50%;}#sk-container-id-2 div.sk-parallel-item:only-child::after {width: 0;}#sk-container-id-2 div.sk-dashed-wrapped {border: 1px dashed gray;margin: 0 0.4em 0.5em 0.4em;box-sizing: border-box;padding-bottom: 0.4em;background-color: white;}#sk-container-id-2 div.sk-label label {font-family: monospace;font-weight: bold;display: inline-block;line-height: 1.2em;}#sk-container-id-2 div.sk-label-container {text-align: center;}#sk-container-id-2 div.sk-container {/* jupyter's `normalize.less` sets `[hidden] { display: none; }` but bootstrap.min.css set `[hidden] { display: none !important; }` so we also need the `!important` here to be able to override the default hidden behavior on the sphinx rendered scikit-learn.org. See: https://github.com/scikit-learn/scikit-learn/issues/21755 */display: inline-block !important;position: relative;}#sk-container-id-2 div.sk-text-repr-fallback {display: none;}</style><div id=\"sk-container-id-2\" class=\"sk-top-container\"><div class=\"sk-text-repr-fallback\"><pre>KMeans(n_clusters=5, n_init=12)</pre><b>In a Jupyter environment, please rerun this cell to show the HTML representation or trust the notebook. <br />On GitHub, the HTML representation is unable to render, please try loading this page with nbviewer.org.</b></div><div class=\"sk-container\" hidden><div class=\"sk-item\"><div class=\"sk-estimator sk-toggleable\"><input class=\"sk-toggleable__control sk-hidden--visually\" id=\"sk-estimator-id-2\" type=\"checkbox\" checked><label for=\"sk-estimator-id-2\" class=\"sk-toggleable__label sk-toggleable__label-arrow\">KMeans</label><div class=\"sk-toggleable__content\"><pre>KMeans(n_clusters=5, n_init=12)</pre></div></div></div></div></div>"
      ],
      "text/plain": [
       "KMeans(n_clusters=5, n_init=12)"
      ]
     },
     "execution_count": 31,
     "metadata": {},
     "output_type": "execute_result"
    }
   ],
   "source": [
    "# training the model\n",
    "clusters=kmeans.fit(rating_pivot)\n",
    "clusters"
   ]
  },
  {
   "cell_type": "code",
   "execution_count": 51,
   "id": "f73e6932",
   "metadata": {},
   "outputs": [
    {
     "data": {
      "text/plain": [
       "array([0, 1, 2, 3, 4])"
      ]
     },
     "execution_count": 51,
     "metadata": {},
     "output_type": "execute_result"
    }
   ],
   "source": [
    "# the true labels of the fitted model\n",
    "labels=clusters.labels_\n",
    "np.unique(labels)"
   ]
  },
  {
   "cell_type": "code",
   "execution_count": 35,
   "id": "46a27565",
   "metadata": {},
   "outputs": [
    {
     "data": {
      "text/plain": [
       "array([[1.88561721e-02, 1.01925255e-02, 1.08720272e-02, ...,\n",
       "        2.62740657e-02, 1.81200453e-03, 6.79501699e-04],\n",
       "       [2.52217997e-01, 1.07731305e-01, 5.15842839e-01, ...,\n",
       "        3.53612167e-01, 5.70342205e-02, 4.68948035e-02],\n",
       "       [1.75287356e-01, 0.00000000e+00, 0.00000000e+00, ...,\n",
       "        0.00000000e+00, 1.58045977e-01, 1.29310345e-02],\n",
       "       [5.89285714e-01, 2.50000000e-01, 9.46428571e-01, ...,\n",
       "        1.39285714e+00, 5.62500000e-01, 9.82142857e-01],\n",
       "       [1.52734375e+00, 4.29687500e-01, 1.67968750e+00, ...,\n",
       "        5.39062500e-01, 8.67187500e-01, 2.53906250e-01]])"
      ]
     },
     "execution_count": 35,
     "metadata": {},
     "output_type": "execute_result"
    }
   ],
   "source": [
    "# the cluster centers\n",
    "clusters.cluster_centers_"
   ]
  },
  {
   "cell_type": "markdown",
   "id": "fdfff8ca",
   "metadata": {},
   "source": [
    "### we have taken the initial number of clusters as 5 but it might not be the most efficient one so we will look at different numbers of clusters and which values of the same gives us the best results. This is done using two evaluation methods:\n",
    "1. elbow graph"
   ]
  },
  {
   "cell_type": "code",
   "execution_count": 70,
   "id": "4f8dacbe",
   "metadata": {},
   "outputs": [],
   "source": [
    "# creating a list for  within cluster sum of squared distances\n",
    "wcss=[]\n",
    "\n",
    "for num_clusters in range (1,10):\n",
    "    kmeans=KMeans(init='k-means++', n_clusters=num_clusters, n_init=12, random_state=42)\n",
    "    kmeans.fit(rating_pivot)\n",
    "    # wcss is the within cluster sum of squared distances from one point to all the other points\n",
    "    # this method is used for finding the elbow graph\n",
    "    wcss.append(kmeans.inertia_)   "
   ]
  },
  {
   "cell_type": "code",
   "execution_count": 103,
   "id": "99489fa6",
   "metadata": {},
   "outputs": [
    {
     "data": {
      "text/plain": [
       "array([[1.00000000e+00, 2.56870416e+06],\n",
       "       [2.00000000e+00, 2.27285464e+06],\n",
       "       [3.00000000e+00, 2.17931881e+06],\n",
       "       [4.00000000e+00, 2.13046571e+06],\n",
       "       [5.00000000e+00, 2.09594033e+06],\n",
       "       [6.00000000e+00, 2.06495255e+06],\n",
       "       [7.00000000e+00, 2.04546638e+06],\n",
       "       [8.00000000e+00, 2.02279665e+06],\n",
       "       [9.00000000e+00, 2.01185768e+06]])"
      ]
     },
     "execution_count": 103,
     "metadata": {},
     "output_type": "execute_result"
    }
   ],
   "source": [
    "wcss_list=list(enumerate(wcss, start=1))\n",
    "wcss_array = np.array(wcss_list)\n",
    "wcss_array"
   ]
  },
  {
   "cell_type": "markdown",
   "id": "8a54bc2c",
   "metadata": {},
   "source": [
    "#### let us now plot the results to see where the wcss reaches the minimum so that we can find the best number of clusters\n"
   ]
  },
  {
   "cell_type": "code",
   "execution_count": 110,
   "id": "e567ae86",
   "metadata": {},
   "outputs": [
    {
     "data": {
      "image/png": "[encoded data removed]",
      "text/plain": [
       "<Figure size 1200x300 with 1 Axes>"
      ]
     },
     "metadata": {},
     "output_type": "display_data"
    }
   ],
   "source": [
    "fig=plt.figure(figsize=(12,3))\n",
    "plt.plot(wcss_array[:,0], wcss_array[:,1], color='purple', marker='o')\n",
    "plt.show()"
   ]
  },
  {
   "cell_type": "markdown",
   "id": "1aeb4cf0",
   "metadata": {},
   "source": [
    "### From the above graph we can see that 5 can be chosen as an elbow point so we will put the values of clusters as 5 as we have already done above."
   ]
  },
  {
   "cell_type": "markdown",
   "id": "15a64975",
   "metadata": {},
   "source": [
    "### --------------------------------------------------------------------------------------------------------\n",
    "### *6. Insights*\n",
    "\n",
    "From the above analysis and model development we gather the following insights:\n",
    "1. The top liked genres are:\n",
    "    1. Film-Noir (3.977295)\n",
    "    2. War (3.815907)\n",
    "    3. Documentary\t(3.743519)\n",
    "    \n",
    "    \n",
    "2. The least liked genres are:\n",
    "    1. Horror (3.232296)\n",
    "    2. Children\t(3.365155)\n",
    "    3. Comedy (3.388250)\n",
    "\n",
    "\n",
    "3. Highest number of movies belong to the genre:\n",
    "    1. Drama\t(86449)\n",
    "    2. Comedy\t(75597)\n",
    "    3. Action\t(56574)\n",
    "    \n",
    "    \n",
    "4. The least number of movies belong to the genres:\n",
    "    1. Film-Noir\t(2026)\n",
    "    2. Documentary\t(2353)\n",
    "    3. Western\t(4610)\n",
    "    \n",
    "\n",
    "#### We also saw the use of kmeans clustering to separate the users based on their rating on movies. On the basis of these clusters we can separate any new users that have similar interests to any cluster and recommend them movies.\n",
    "\n",
    "#### The most efficient clustering was done when the number of clusters were 5.\n",
    "\n",
    "#### We can improve the scope of the recommendation system by using hierarchical clustering which I will be working on in subsequent days."
   ]
  },
  {
   "cell_type": "markdown",
   "id": "e33debd9",
   "metadata": {},
   "source": [
    "### --------------------------------------------------------------------------------------------------------\n",
    "### *7. Credits*\n",
    "\n",
    "*Reva Bharara*\n",
    "\n",
    "*Email : revabharara@gmail.com, bhararareva@gmail.com*\n",
    "\n",
    "*Linkedin : https://www.linkedin.com/in/reva-bharara-a83a78241/*"
   ]
  },
  {
   "cell_type": "code",
   "execution_count": null,
   "id": "7ca2701c",
   "metadata": {},
   "outputs": [],
   "source": []
  }
 ],
 "metadata": {
  "kernelspec": {
   "display_name": "Python 3 (ipykernel)",
   "language": "python",
   "name": "python3"
  },
  "language_info": {
   "codemirror_mode": {
    "name": "ipython",
    "version": 3
   },
   "file_extension": ".py",
   "mimetype": "text/x-python",
   "name": "python",
   "nbconvert_exporter": "python",
   "pygments_lexer": "ipython3",
   "version": "3.11.2"
  }
 },
 "nbformat": 4,
 "nbformat_minor": 5
}
